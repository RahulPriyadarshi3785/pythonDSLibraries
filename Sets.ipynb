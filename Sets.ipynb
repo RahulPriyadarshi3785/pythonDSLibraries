{
 "cells": [
  {
   "cell_type": "code",
   "execution_count": 3,
   "metadata": {},
   "outputs": [
    {
     "data": {
      "text/plain": [
       "[1, 12, 3, 3, 13, 2, 1, 4, 'Shilpam', 'Rahul', 5, 'Shilpam', 5, 13]"
      ]
     },
     "execution_count": 3,
     "metadata": {},
     "output_type": "execute_result"
    }
   ],
   "source": [
    "l=[1,12,3,3,13,2,1,4,\"Shilpam\",\"Rahul\",5,\"Shilpam\",5,13]\n",
    "l"
   ]
  },
  {
   "cell_type": "code",
   "execution_count": 4,
   "metadata": {},
   "outputs": [
    {
     "data": {
      "text/plain": [
       "{1, 2, 3, 4, 5, 12, 13, 'Shilpam', 'Rahul'}"
      ]
     },
     "execution_count": 4,
     "metadata": {},
     "output_type": "execute_result"
    }
   ],
   "source": [
    "s=set(l)\n",
    "s # insertion order not maintained i.e. keep things in random order\n",
    "# good for searching O(n)"
   ]
  },
  {
   "cell_type": "code",
   "execution_count": 5,
   "metadata": {},
   "outputs": [
    {
     "data": {
      "text/plain": [
       "9"
      ]
     },
     "execution_count": 5,
     "metadata": {},
     "output_type": "execute_result"
    }
   ],
   "source": [
    "len(s)"
   ]
  },
  {
   "cell_type": "code",
   "execution_count": 8,
   "metadata": {},
   "outputs": [
    {
     "data": {
      "text/plain": [
       "True"
      ]
     },
     "execution_count": 8,
     "metadata": {},
     "output_type": "execute_result"
    }
   ],
   "source": [
    "14 not in s"
   ]
  },
  {
   "cell_type": "code",
   "execution_count": 7,
   "metadata": {},
   "outputs": [
    {
     "data": {
      "text/plain": [
       "True"
      ]
     },
     "execution_count": 7,
     "metadata": {},
     "output_type": "execute_result"
    }
   ],
   "source": [
    "5 in s # O(1)"
   ]
  },
  {
   "cell_type": "code",
   "execution_count": 10,
   "metadata": {},
   "outputs": [
    {
     "data": {
      "text/plain": [
       "{1, 3, 5, 7, 9, 'shipu', 'Rahul'}"
      ]
     },
     "execution_count": 10,
     "metadata": {},
     "output_type": "execute_result"
    }
   ],
   "source": [
    "s1={1,5,7,3,9,'Rahul','shipu'}\n",
    "s2=set([25,20,14,17,'Shilpam Priyadarshi'])\n",
    "s1"
   ]
  },
  {
   "cell_type": "code",
   "execution_count": 11,
   "metadata": {},
   "outputs": [
    {
     "data": {
      "text/plain": [
       "{14, 17, 20, 25, 'Shilpam Priyadarshi'}"
      ]
     },
     "execution_count": 11,
     "metadata": {},
     "output_type": "execute_result"
    }
   ],
   "source": [
    "s2"
   ]
  },
  {
   "cell_type": "code",
   "execution_count": 13,
   "metadata": {},
   "outputs": [
    {
     "data": {
      "text/plain": [
       "False"
      ]
     },
     "execution_count": 13,
     "metadata": {},
     "output_type": "execute_result"
    }
   ],
   "source": [
    "s.isdisjoint(s1) # checks if set has no common elements than True"
   ]
  },
  {
   "cell_type": "code",
   "execution_count": 14,
   "metadata": {},
   "outputs": [
    {
     "data": {
      "text/plain": [
       "True"
      ]
     },
     "execution_count": 14,
     "metadata": {},
     "output_type": "execute_result"
    }
   ],
   "source": [
    "s.isdisjoint(s2)"
   ]
  },
  {
   "cell_type": "code",
   "execution_count": 16,
   "metadata": {},
   "outputs": [
    {
     "data": {
      "text/plain": [
       "{1, 2, 'Shilpam', 5}"
      ]
     },
     "execution_count": 16,
     "metadata": {},
     "output_type": "execute_result"
    }
   ],
   "source": [
    "s3={'Shilpam',1,2,5}\n",
    "s3"
   ]
  },
  {
   "cell_type": "code",
   "execution_count": 18,
   "metadata": {},
   "outputs": [
    {
     "data": {
      "text/plain": [
       "True"
      ]
     },
     "execution_count": 18,
     "metadata": {},
     "output_type": "execute_result"
    }
   ],
   "source": [
    "s3.issubset(s) # check if s3 is subset of s"
   ]
  },
  {
   "cell_type": "code",
   "execution_count": 20,
   "metadata": {},
   "outputs": [
    {
     "data": {
      "text/plain": [
       "True"
      ]
     },
     "execution_count": 20,
     "metadata": {},
     "output_type": "execute_result"
    }
   ],
   "source": [
    "s3 <= s # equivalet to issubset method\n",
    "# similarly you can use >=, >, < and issuperset "
   ]
  },
  {
   "cell_type": "code",
   "execution_count": 22,
   "metadata": {},
   "outputs": [
    {
     "name": "stdout",
     "output_type": "stream",
     "text": [
      "{1, 3, 5, 7, 9, 'shipu', 'Rahul'}\n",
      "{1, 2, 'Shilpam', 5}\n",
      "{1, 5}\n",
      "{1, 2, 3, 5, 7, 9, 'shipu', 'Shilpam', 'Rahul'}\n",
      "{3, 7, 9, 'shipu', 'Rahul'}\n",
      "{2, 3, 7, 9, 'shipu', 'Shilpam', 'Rahul'}\n"
     ]
    }
   ],
   "source": [
    "print(s1)\n",
    "print(s3)\n",
    "print(s1 & s3) #intersection\n",
    "print(s1 | s3) #union\n",
    "print(s1 - s3) #difference\n",
    "print(s1 ^ s3) #symmetric_difference -> uncommon elements"
   ]
  },
  {
   "cell_type": "code",
   "execution_count": 23,
   "metadata": {},
   "outputs": [
    {
     "name": "stdout",
     "output_type": "stream",
     "text": [
      "{1, 2, 3, 4, 5, 12, 13, 'Shilpam', 'Rahul'}\n"
     ]
    }
   ],
   "source": [
    "s4 = s.copy() # shallow copy\n",
    "s5 = s # deep copy -> it copies address of object(deeply connected)\n",
    "print(s)"
   ]
  },
  {
   "cell_type": "code",
   "execution_count": 24,
   "metadata": {},
   "outputs": [
    {
     "data": {
      "text/plain": [
       "{1, 2, 3, 4, 5, 10, 12, 13, 'Shilpam', 'Rahul'}"
      ]
     },
     "execution_count": 24,
     "metadata": {},
     "output_type": "execute_result"
    }
   ],
   "source": [
    "s4.add(10)\n",
    "s4"
   ]
  },
  {
   "cell_type": "code",
   "execution_count": 25,
   "metadata": {},
   "outputs": [
    {
     "data": {
      "text/plain": [
       "{1, 2, 3, 4, 5, 12, 13, 'Shilpam', 'Rahul'}"
      ]
     },
     "execution_count": 25,
     "metadata": {},
     "output_type": "execute_result"
    }
   ],
   "source": [
    "s"
   ]
  },
  {
   "cell_type": "code",
   "execution_count": 26,
   "metadata": {},
   "outputs": [
    {
     "name": "stdout",
     "output_type": "stream",
     "text": [
      "{1, 2, 3, 4, 5, 6, 12, 13, 'Shilpam', 'Rahul'}\n",
      "{1, 2, 3, 4, 5, 6, 12, 13, 'Shilpam', 'Rahul'}\n"
     ]
    }
   ],
   "source": [
    "s5.add(6)\n",
    "print(s)\n",
    "print(s5)"
   ]
  },
  {
   "cell_type": "code",
   "execution_count": 27,
   "metadata": {},
   "outputs": [
    {
     "name": "stdout",
     "output_type": "stream",
     "text": [
      "{1, 2, 3, 4, 5, 6, 12, 13, 'Shilpam', 'Rahul'}\n",
      "{1, 3, 5, 7, 9, 'shipu', 'Rahul'}\n",
      "{14, 17, 20, 25, 'Shilpam Priyadarshi'}\n",
      "{1, 2, 'Shilpam', 5}\n",
      "{1, 2, 3, 4, 5, 10, 12, 13, 'Shilpam', 'Rahul'}\n",
      "{1, 2, 3, 4, 5, 6, 12, 13, 'Shilpam', 'Rahul'}\n",
      "{1, 3, 'Rahul', 5}\n",
      "{1, 2, 3, 4, 5, 6, 'Rahul', 12, 13, 14, 17, 20, 25, 'Shilpam', 'Shilpam Priyadarshi'}\n",
      "set()\n",
      "{6, 10}\n"
     ]
    }
   ],
   "source": [
    "print(s)\n",
    "print(s1)\n",
    "print(s2)\n",
    "print(s3)\n",
    "print(s4)\n",
    "s1 &= s #intersection_update\n",
    "s2 |= s #update\n",
    "s3 -= s #difference_update\n",
    "s4 ^= s #symmetric_difference_update -> uncommon elements update\n",
    "print(s)\n",
    "print(s1)\n",
    "print(s2)\n",
    "print(s3)\n",
    "print(s4)"
   ]
  },
  {
   "cell_type": "code",
   "execution_count": 28,
   "metadata": {},
   "outputs": [
    {
     "name": "stdout",
     "output_type": "stream",
     "text": [
      "{1, 2, 3, 4, 5, 6, 'Shilpam Priyadarshi', 12, 13, 'Shilpam', 'Rahul'}\n",
      "{1, 2, 3, 4, 5, 6, 'Shilpam Priyadarshi', 12, 13, 'Rahul'}\n",
      "{1, 2, 3, 4, 5, 6, 'Shilpam Priyadarshi', 12, 13}\n",
      "1\n",
      "set()\n"
     ]
    }
   ],
   "source": [
    "s.add('Shilpam Priyadarshi') # add element to set\n",
    "print(s)\n",
    "s.remove('Shilpam') # Remove element elem from the set. Raises KeyError if elem is not contained in the set.\n",
    "print(s)\n",
    "s.discard('Rahul') # Remove element elem from the set if it is present. Safe operation\n",
    "print(s)\n",
    "print(s.pop()) # Remove and return an arbitrary element from the set. Raises KeyError if the set is empty.\n",
    "s.clear() # empty set\n",
    "print(s)"
   ]
  },
  {
   "cell_type": "code",
   "execution_count": null,
   "metadata": {
    "collapsed": true
   },
   "outputs": [],
   "source": []
  }
 ],
 "metadata": {
  "kernelspec": {
   "display_name": "Python 3",
   "language": "python",
   "name": "python3"
  },
  "language_info": {
   "codemirror_mode": {
    "name": "ipython",
    "version": 3
   },
   "file_extension": ".py",
   "mimetype": "text/x-python",
   "name": "python",
   "nbconvert_exporter": "python",
   "pygments_lexer": "ipython3",
   "version": "3.6.3"
  }
 },
 "nbformat": 4,
 "nbformat_minor": 2
}
