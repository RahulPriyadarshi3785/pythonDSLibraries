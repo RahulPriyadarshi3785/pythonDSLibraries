{
 "cells": [
  {
   "cell_type": "code",
   "execution_count": 1,
   "metadata": {},
   "outputs": [
    {
     "name": "stdout",
     "output_type": "stream",
     "text": [
      "SHILPAM\n",
      "rahul\n",
      "PaNda\n",
      "Shilpu loves Rahu\n",
      "shilpuxhatesxRahu\n",
      "We10@project\n"
     ]
    }
   ],
   "source": [
    "s1='SHILPAM'\n",
    "s2='rahul'\n",
    "s3='PaNda'\n",
    "s4='Shilpu loves Rahu'\n",
    "s5='shilpuxhatesxRahu'\n",
    "s6='We10@project'\n",
    "print(s1)\n",
    "print(s2)\n",
    "print(s3)\n",
    "print(s4)\n",
    "print(s5)\n",
    "print(s6)"
   ]
  },
  {
   "cell_type": "code",
   "execution_count": 2,
   "metadata": {},
   "outputs": [
    {
     "data": {
      "text/plain": [
       "'Shilpam'"
      ]
     },
     "execution_count": 2,
     "metadata": {},
     "output_type": "execute_result"
    }
   ],
   "source": [
    "s1.capitalize()"
   ]
  },
  {
   "cell_type": "code",
   "execution_count": 7,
   "metadata": {},
   "outputs": [
    {
     "data": {
      "text/plain": [
       "2"
      ]
     },
     "execution_count": 7,
     "metadata": {},
     "output_type": "execute_result"
    }
   ],
   "source": [
    "s4.count('l')"
   ]
  },
  {
   "cell_type": "code",
   "execution_count": 8,
   "metadata": {},
   "outputs": [
    {
     "name": "stdout",
     "output_type": "stream",
     "text": [
      "Shilpu loves Rahu\n",
      "True\n",
      "True\n"
     ]
    }
   ],
   "source": [
    "print(s4)\n",
    "print(s4.endswith('hu'))\n",
    "print(s4.startswith('Sh'))"
   ]
  },
  {
   "cell_type": "code",
   "execution_count": 9,
   "metadata": {},
   "outputs": [
    {
     "name": "stdout",
     "output_type": "stream",
     "text": [
      "1\n",
      "15\n",
      "-1\n"
     ]
    }
   ],
   "source": [
    "print(s4.find('h')) # str.find('substring', [start, [end]])\n",
    "print(s4.find('h',4))\n",
    "print(s4.find('h',3,7))"
   ]
  },
  {
   "cell_type": "code",
   "execution_count": 11,
   "metadata": {},
   "outputs": [
    {
     "name": "stdout",
     "output_type": "stream",
     "text": [
      "True\n",
      "False\n"
     ]
    }
   ],
   "source": [
    "print('Shilpu' in s4) # case sensitive\n",
    "print('Rahu' not in s4)"
   ]
  },
  {
   "cell_type": "code",
   "execution_count": 16,
   "metadata": {},
   "outputs": [
    {
     "data": {
      "text/plain": [
       "'12Rahul345Shipu67Max89'"
      ]
     },
     "execution_count": 16,
     "metadata": {},
     "output_type": "execute_result"
    }
   ],
   "source": [
    "'12{0}345{2}67{3}89'.format('Rahul', 'hates', 'Shipu', 'Max')  # takes acc to number given in {}"
   ]
  },
  {
   "cell_type": "code",
   "execution_count": 13,
   "metadata": {},
   "outputs": [
    {
     "ename": "IndexError",
     "evalue": "tuple index out of range",
     "output_type": "error",
     "traceback": [
      "\u001b[1;31m---------------------------------------------------------------------------\u001b[0m",
      "\u001b[1;31mIndexError\u001b[0m                                Traceback (most recent call last)",
      "\u001b[1;32m<ipython-input-13-f5ed087817d9>\u001b[0m in \u001b[0;36m<module>\u001b[1;34m()\u001b[0m\n\u001b[1;32m----> 1\u001b[1;33m \u001b[1;34m'12{0}345{1}67{2}89'\u001b[0m\u001b[1;33m.\u001b[0m\u001b[0mformat\u001b[0m\u001b[1;33m(\u001b[0m\u001b[1;34m'Rahul'\u001b[0m\u001b[1;33m,\u001b[0m \u001b[1;34m'hates'\u001b[0m\u001b[1;33m)\u001b[0m\u001b[1;33m\u001b[0m\u001b[0m\n\u001b[0m",
      "\u001b[1;31mIndexError\u001b[0m: tuple index out of range"
     ]
    }
   ],
   "source": [
    "'12{0}345{1}67{2}89'.format('Rahul', 'hates') # if no. of arg is less throws error"
   ]
  },
  {
   "cell_type": "code",
   "execution_count": 23,
   "metadata": {},
   "outputs": [
    {
     "data": {
      "text/plain": [
       "'12Rahul345hates67Shipu89'"
      ]
     },
     "execution_count": 23,
     "metadata": {},
     "output_type": "execute_result"
    }
   ],
   "source": [
    "'12{}345{}67{}89'.format('Rahul','hates', 'Shipu', 'Max') # takes acc to default order"
   ]
  },
  {
   "cell_type": "code",
   "execution_count": 54,
   "metadata": {},
   "outputs": [
    {
     "name": "stdout",
     "output_type": "stream",
     "text": [
      "Python has 002 quote types.\n"
     ]
    }
   ],
   "source": [
    "print('%(language)s has %(number)03d quote types.' %\n",
    "      {'language': \"Python\", \"number\": 2}) # takes dictionary"
   ]
  },
  {
   "cell_type": "code",
   "execution_count": 25,
   "metadata": {},
   "outputs": [
    {
     "data": {
      "text/plain": [
       "True"
      ]
     },
     "execution_count": 25,
     "metadata": {},
     "output_type": "execute_result"
    }
   ],
   "source": [
    "s3.isalnum() #checks everything is alphabets or numeric"
   ]
  },
  {
   "cell_type": "code",
   "execution_count": 27,
   "metadata": {},
   "outputs": [
    {
     "name": "stdout",
     "output_type": "stream",
     "text": [
      "We10@project\n",
      "False\n"
     ]
    }
   ],
   "source": [
    "print(s6)\n",
    "print(s6.isalpha())#checks everything is alphabets"
   ]
  },
  {
   "cell_type": "code",
   "execution_count": 29,
   "metadata": {},
   "outputs": [
    {
     "data": {
      "text/plain": [
       "True"
      ]
     },
     "execution_count": 29,
     "metadata": {},
     "output_type": "execute_result"
    }
   ],
   "source": [
    "'123'.isdigit() # checks everything is numeric"
   ]
  },
  {
   "cell_type": "code",
   "execution_count": 31,
   "metadata": {},
   "outputs": [
    {
     "data": {
      "text/plain": [
       "True"
      ]
     },
     "execution_count": 31,
     "metadata": {},
     "output_type": "execute_result"
    }
   ],
   "source": [
    "'hello'.isidentifier()"
   ]
  },
  {
   "cell_type": "code",
   "execution_count": 32,
   "metadata": {},
   "outputs": [
    {
     "name": "stdout",
     "output_type": "stream",
     "text": [
      "True\n",
      "True\n",
      "False\n",
      "True\n"
     ]
    }
   ],
   "source": [
    "print('Shilpam'.istitle())\n",
    "print('shipu'.islower())\n",
    "print('shipu'.isupper())\n",
    "print(' \\n'.isspace())"
   ]
  },
  {
   "cell_type": "code",
   "execution_count": 37,
   "metadata": {},
   "outputs": [
    {
     "name": "stdout",
     "output_type": "stream",
     "text": [
      "1 2 3 4 5 6 7\n",
      "1-2-3-4-5-6-7\n",
      "1*2*3*4*5*6*7\n",
      "1&2&3&4&5&6&7\n"
     ]
    }
   ],
   "source": [
    "print(' '.join(map(str,[1,2,3,4,5,6,7])))\n",
    "print('-'.join(map(str,{1,2,3,4,5,6,7})))\n",
    "print('*'.join(map(str,(1,2,3,4,5,6,7))))\n",
    "print('&'.join(map(str,range(1,8))))"
   ]
  },
  {
   "cell_type": "code",
   "execution_count": 38,
   "metadata": {},
   "outputs": [
    {
     "name": "stdout",
     "output_type": "stream",
     "text": [
      "Shilpu loves Rahu   \n",
      "Shilpu loves Rahu&&&\n"
     ]
    }
   ],
   "source": [
    "print(s4.ljust(20)) # left justify -> ljust(width, [fillchar])\n",
    "print(s4.ljust(20,'&'))"
   ]
  },
  {
   "cell_type": "code",
   "execution_count": 52,
   "metadata": {},
   "outputs": [
    {
     "name": "stdout",
     "output_type": "stream",
     "text": [
      "spacious   \n",
      "\n",
      "   spacious\n",
      "spacious\n",
      "xyzspacious\n",
      "spaciousxyz\n",
      "spacious\n"
     ]
    }
   ],
   "source": [
    "print('   spacious   \\n'.lstrip()) # left spaces gone\n",
    "print('   spacious   \\n'.rstrip()) # right spaces gone\n",
    "print('   spacious   \\n'.strip()) # spaces gone of both sides\n",
    "print('xyzspaciousxyz'.rstrip('xyz')) # right substring gone\n",
    "print('xyzspaciousxyz'.lstrip('xyz')) # left substring gone\n",
    "print('xyzspaciousxyz'.strip('xyz')) # substring gone of both sides"
   ]
  },
  {
   "cell_type": "code",
   "execution_count": 44,
   "metadata": {},
   "outputs": [
    {
     "name": "stdout",
     "output_type": "stream",
     "text": [
      "Shilpu loves Rahu\n",
      "shilpuxhatesxRahu\n",
      "Shilpu%loves%Rahu\n",
      "shilpu&hates&Rahu\n"
     ]
    }
   ],
   "source": [
    "print(s4)\n",
    "print(s5)\n",
    "print(s4.replace(' ', '%'))\n",
    "print(s5.replace('x', '&'))"
   ]
  },
  {
   "cell_type": "code",
   "execution_count": 49,
   "metadata": {},
   "outputs": [
    {
     "name": "stdout",
     "output_type": "stream",
     "text": [
      "Shilpu loves Rahu\n",
      "shilpuxhatesxRahu\n",
      "['Shilpu', 'loves', 'Rahu']\n",
      "['Shilpu', 'loves', 'Rahu']\n",
      "['Shilpu', 'loves Rahu']\n",
      "['shilpuxhatesxRahu']\n",
      "['shilpu', 'hates', 'Rahu']\n",
      "['shilpuxhates', 'Rahu']\n"
     ]
    }
   ],
   "source": [
    "print(s4) \n",
    "print(s5)\n",
    "print(s4.split(' ')) # split([delimiter,[number of parts]])\n",
    "print(s4.split())\n",
    "print(s4.split(' ', 1))\n",
    "print(s5.split('x', 0))\n",
    "print(s5.split('x'))\n",
    "print(s5.rsplit('x', 1)) # rsplit([delimiter,[number of parts]]) -> splits from right side"
   ]
  },
  {
   "cell_type": "code",
   "execution_count": 53,
   "metadata": {},
   "outputs": [
    {
     "name": "stdout",
     "output_type": "stream",
     "text": [
      "CUUfIT8OT8sgDZG\n"
     ]
    }
   ],
   "source": [
    "print('cuuFit8ot8SGdzg'.swapcase()) # swap cases"
   ]
  },
  {
   "cell_type": "code",
   "execution_count": 1,
   "metadata": {},
   "outputs": [
    {
     "name": "stdout",
     "output_type": "stream",
     "text": [
      "x\n",
      "y\n",
      "z\n"
     ]
    }
   ],
   "source": [
    "for i in 'xyz':\n",
    "    print(i)"
   ]
  },
  {
   "cell_type": "code",
   "execution_count": 2,
   "metadata": {},
   "outputs": [
    {
     "data": {
      "text/plain": [
       "'y'"
      ]
     },
     "execution_count": 2,
     "metadata": {},
     "output_type": "execute_result"
    }
   ],
   "source": [
    "'xyz'[1]"
   ]
  },
  {
   "cell_type": "code",
   "execution_count": 3,
   "metadata": {},
   "outputs": [
    {
     "data": {
      "text/plain": [
       "3"
      ]
     },
     "execution_count": 3,
     "metadata": {},
     "output_type": "execute_result"
    }
   ],
   "source": [
    "len('xyz')"
   ]
  },
  {
   "cell_type": "code",
   "execution_count": null,
   "metadata": {
    "collapsed": true
   },
   "outputs": [],
   "source": []
  }
 ],
 "metadata": {
  "kernelspec": {
   "display_name": "Python 3",
   "language": "python",
   "name": "python3"
  },
  "language_info": {
   "codemirror_mode": {
    "name": "ipython",
    "version": 3
   },
   "file_extension": ".py",
   "mimetype": "text/x-python",
   "name": "python",
   "nbconvert_exporter": "python",
   "pygments_lexer": "ipython3",
   "version": "3.6.3"
  }
 },
 "nbformat": 4,
 "nbformat_minor": 2
}
