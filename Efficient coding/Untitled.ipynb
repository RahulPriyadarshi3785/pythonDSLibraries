{
 "cells": [
  {
   "cell_type": "code",
   "execution_count": 8,
   "metadata": {},
   "outputs": [
    {
     "name": "stdout",
     "output_type": "stream",
     "text": [
      "['s', 'k', 'i', 'h', 'a']\n"
     ]
    },
    {
     "data": {
      "text/plain": [
       "562961325"
      ]
     },
     "execution_count": 8,
     "metadata": {},
     "output_type": "execute_result"
    }
   ],
   "source": [
    "def q1(str):\n",
    "    str=str.lower()\n",
    "    uniq=set()\n",
    "    seq_uniq_str=list()\n",
    "    for s in str:\n",
    "        if(s not in uniq):\n",
    "            uniq.add(s)\n",
    "            seq_uniq_str.append(s)\n",
    "    return get_hash(sorted(seq_uniq_str, key=None, reverse=True))\n",
    "    \n",
    "    \n",
    "def get_hash(seq_uniq_str):\n",
    "    p=31\n",
    "    res=0\n",
    "    mod=1000000007\n",
    "    print(seq_uniq_str)\n",
    "    for i in range(0, len(seq_uniq_str)):\n",
    "        res+=((ord(seq_uniq_str[i])-ord('q')+1)*(p%mod))%mod\n",
    "        res%=mod\n",
    "        p*=31\n",
    "        p%=mod\n",
    "    return res\n",
    "\n",
    "q1('Shakshi')\n"
   ]
  },
  {
   "cell_type": "code",
   "execution_count": 27,
   "metadata": {
    "scrolled": true
   },
   "outputs": [
    {
     "name": "stdout",
     "output_type": "stream",
     "text": [
      "-3\n",
      "ba\n",
      "s1:.\n",
      "s1:.\n",
      "s1: a31\n",
      "4\n"
     ]
    }
   ],
   "source": [
    "def cnt(s1, s2):\n",
    "    j=0\n",
    "    for i in range(len(s2)-1,0,-1):\n",
    "        j-=1\n",
    "        if(s1[j]!=s2[j]):\n",
    "            break\n",
    "    print(j)\n",
    "    if(j<-1):\n",
    "        s2=s2[:j+1]\n",
    "    print(s2)\n",
    "    res=0\n",
    "    x=0\n",
    "    l=[]\n",
    "    lenl=0\n",
    "    for i in s2:\n",
    "        for j in s1:\n",
    "            if(i==j):\n",
    "                if(x<lenl):\n",
    "                    print(\"s1: \"+(str)(j)+(str)(lenl)+(str)(x))\n",
    "                    res+=(lenl-x)\n",
    "                x+=1\n",
    "                lenl=x\n",
    "                break\n",
    "            elif(j=='.'):\n",
    "                if(lenl>x):\n",
    "                    lenl=-1\n",
    "                else:\n",
    "                    print(\"s1:\"+(str)(j))\n",
    "                    res+=1\n",
    "            else:\n",
    "                lenl+=1\n",
    "    print(res)\n",
    "    \n",
    "cnt('a.ba.b.','abb')\n",
    "cnt('.bbac..a.c.cd','bacd')\n",
    "            \n",
    "                \n",
    "        "
   ]
  },
  {
   "cell_type": "code",
   "execution_count": 14,
   "metadata": {},
   "outputs": [
    {
     "data": {
      "text/plain": [
       "'xyc'"
      ]
     },
     "execution_count": 14,
     "metadata": {},
     "output_type": "execute_result"
    }
   ],
   "source": [
    "'xycz'[:-1]"
   ]
  },
  {
   "cell_type": "code",
   "execution_count": 15,
   "metadata": {},
   "outputs": [
    {
     "data": {
      "text/plain": [
       "'z'"
      ]
     },
     "execution_count": 15,
     "metadata": {},
     "output_type": "execute_result"
    }
   ],
   "source": [
    "'xycz'[-1]"
   ]
  },
  {
   "cell_type": "code",
   "execution_count": null,
   "metadata": {
    "collapsed": true
   },
   "outputs": [],
   "source": []
  }
 ],
 "metadata": {
  "kernelspec": {
   "display_name": "Python 3",
   "language": "python",
   "name": "python3"
  },
  "language_info": {
   "codemirror_mode": {
    "name": "ipython",
    "version": 3
   },
   "file_extension": ".py",
   "mimetype": "text/x-python",
   "name": "python",
   "nbconvert_exporter": "python",
   "pygments_lexer": "ipython3",
   "version": "3.6.3"
  }
 },
 "nbformat": 4,
 "nbformat_minor": 2
}
