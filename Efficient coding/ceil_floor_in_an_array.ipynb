{
 "cells": [
  {
   "cell_type": "code",
   "execution_count": 11,
   "metadata": {},
   "outputs": [
    {
     "name": "stdout",
     "output_type": "stream",
     "text": [
      "46,42\n",
      "49,46\n",
      "8,8\n",
      "58\n",
      "1\n",
      "10,10\n"
     ]
    }
   ],
   "source": [
    "def ceil_floor_in_an_array(list, num):\n",
    "    if(len(list)==0 or list==None):\n",
    "        return \"\"\n",
    "    s=0\n",
    "    e=len(list)-1\n",
    "    if(num>list[e]):\n",
    "        return str(list[e])\n",
    "    elif(num<list[s]):\n",
    "        return str(list[s])\n",
    "    while(s<=e):\n",
    "        m=(s+e)//2\n",
    "        if(list[m]==num):\n",
    "            return str(num)+\",\"+str(num)\n",
    "        elif(list[m]>num):\n",
    "            if(list[m-1]<num):\n",
    "                return str(list[m])+\",\"+str(list[m-1])\n",
    "            e=m-1\n",
    "        else:\n",
    "            if(list[m+1]>num):\n",
    "                return str(list[m+1])+\",\"+str(list[m])\n",
    "            s=m+1\n",
    "            \n",
    "print(ceil_floor_in_an_array([1,4,6,8,10,14,17,19,25,31,37,42,46,49,50,58], 44)) #46,42\n",
    "print(ceil_floor_in_an_array([1,4,6,8,10,14,17,19,25,31,37,42,46,49,50,58], 47)) #49.46\n",
    "print(ceil_floor_in_an_array([1,4,6,8,10,14,17,19,25,31,37,42,46,49,50,58], 8)) #8,8\n",
    "print(ceil_floor_in_an_array([1,4,6,8,10,14,17,19,25,31,37,42,46,49,50,58], 98)) #58\n",
    "print(ceil_floor_in_an_array([1,4,6,8,10,14,17,19,25,31,37,42,46,49,50,58], -8)) #1\n",
    "#                             0,1,2,3,4, 5,  6, 7, 8, 9,10,11,12,13,14,15\n",
    "print(ceil_floor_in_an_array([1,4,6,8,10], 10))"
   ]
  },
  {
   "cell_type": "code",
   "execution_count": null,
   "metadata": {
    "collapsed": true
   },
   "outputs": [],
   "source": []
  }
 ],
 "metadata": {
  "kernelspec": {
   "display_name": "Python 3",
   "language": "python",
   "name": "python3"
  },
  "language_info": {
   "codemirror_mode": {
    "name": "ipython",
    "version": 3
   },
   "file_extension": ".py",
   "mimetype": "text/x-python",
   "name": "python",
   "nbconvert_exporter": "python",
   "pygments_lexer": "ipython3",
   "version": "3.6.3"
  }
 },
 "nbformat": 4,
 "nbformat_minor": 2
}
