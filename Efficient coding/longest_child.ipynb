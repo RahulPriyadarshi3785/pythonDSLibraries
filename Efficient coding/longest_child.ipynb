{
 "cells": [
  {
   "cell_type": "code",
   "execution_count": 3,
   "metadata": {},
   "outputs": [
    {
     "name": "stdout",
     "output_type": "stream",
     "text": [
      "3\n",
      "6\n"
     ]
    }
   ],
   "source": [
    "def longest_child(s1, s2):\n",
    "    return longest_child_helper(s1,s2,0,0)\n",
    "\n",
    "def longest_child_helper(s1, s2, i, j):\n",
    "    count=0\n",
    "    if(i==len(s1) or j==len(s2)):\n",
    "        return count\n",
    "    if(s1[i]==s2[j]):\n",
    "        count+=longest_child_helper(s1, s2, i+1, j+1)+1\n",
    "    else:\n",
    "        count+=max(longest_child_helper(s1, s2, i+1, j),longest_child_helper(s1, s2, i, j+1))\n",
    "    return count\n",
    "\n",
    "print(longest_child('ABCD', 'ABDC')) # 3\n",
    "print(longest_child('abcdedcf', 'abxyedcf')) # 6"
   ]
  },
  {
   "cell_type": "code",
   "execution_count": 6,
   "metadata": {},
   "outputs": [
    {
     "name": "stdout",
     "output_type": "stream",
     "text": [
      "3\n",
      "6\n"
     ]
    }
   ],
   "source": [
    "def longest_child_self(s1, s2):\n",
    "    d1=dict()\n",
    "    d2=dict()\n",
    "    for ix,c in enumerate(s1):\n",
    "        d1[c].add(ix)\n",
    "    for ix,c in enumerate(s2):\n",
    "        d2[c].add(ix)\n",
    "    c1=0\n",
    "    ix=-1\n",
    "    for c in s1:\n",
    "        if(c in d2):\n",
    "            for i in d2[c]:\n",
    "                d2[c].remove(i)\n",
    "                if(i>ix):\n",
    "                    ix=i\n",
    "                    c1+=1\n",
    "                    break\n",
    "    c2=0\n",
    "    ix=-1\n",
    "    for c in s2:\n",
    "        if(c in d1):\n",
    "            for i in d1[c]:\n",
    "                d1[c].remove(i)\n",
    "                if(i>ix):\n",
    "                    ix=i\n",
    "                    c2+=1\n",
    "                    break\n",
    "    return max(c1,c2)\n",
    "\n",
    "\n",
    "\n",
    "print(longest_child('ABCD', 'ABDC')) # 3\n",
    "print(longest_child('abcdedcf', 'abxyedcf')) # 6"
   ]
  },
  {
   "cell_type": "code",
   "execution_count": null,
   "metadata": {
    "collapsed": true
   },
   "outputs": [],
   "source": []
  }
 ],
 "metadata": {
  "kernelspec": {
   "display_name": "Python 3",
   "language": "python",
   "name": "python3"
  },
  "language_info": {
   "codemirror_mode": {
    "name": "ipython",
    "version": 3
   },
   "file_extension": ".py",
   "mimetype": "text/x-python",
   "name": "python",
   "nbconvert_exporter": "python",
   "pygments_lexer": "ipython3",
   "version": "3.6.3"
  }
 },
 "nbformat": 4,
 "nbformat_minor": 2
}
