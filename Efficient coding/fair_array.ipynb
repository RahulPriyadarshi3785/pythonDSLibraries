{
 "cells": [
  {
   "cell_type": "code",
   "execution_count": 4,
   "metadata": {},
   "outputs": [
    {
     "name": "stdout",
     "output_type": "stream",
     "text": [
      "1\n",
      "5\n"
     ]
    }
   ],
   "source": [
    "import sys\n",
    "def fair_array(arr, k):\n",
    "    if(k<=1 or k>len(arr)):\n",
    "        return 0\n",
    "    m=sys.maxsize\n",
    "    arr.sort()\n",
    "    for i in range(len(arr)-k+1):\n",
    "        diff=arr[i+k-1]-arr[i]\n",
    "        if(m>diff):\n",
    "            m=diff\n",
    "    return m\n",
    "\n",
    "print(fair_array([8, 14, 20, 10, 15], 2))\n",
    "print(fair_array([8, 14, 20, 10, 15], 3))"
   ]
  },
  {
   "cell_type": "code",
   "execution_count": null,
   "metadata": {
    "collapsed": true
   },
   "outputs": [],
   "source": []
  }
 ],
 "metadata": {
  "kernelspec": {
   "display_name": "Python 3",
   "language": "python",
   "name": "python3"
  },
  "language_info": {
   "codemirror_mode": {
    "name": "ipython",
    "version": 3
   },
   "file_extension": ".py",
   "mimetype": "text/x-python",
   "name": "python",
   "nbconvert_exporter": "python",
   "pygments_lexer": "ipython3",
   "version": "3.6.3"
  }
 },
 "nbformat": 4,
 "nbformat_minor": 2
}
