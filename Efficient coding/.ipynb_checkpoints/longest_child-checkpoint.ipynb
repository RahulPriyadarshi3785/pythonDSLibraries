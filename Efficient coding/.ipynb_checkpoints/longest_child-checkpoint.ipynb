{
 "cells": [
  {
   "cell_type": "code",
   "execution_count": null,
   "metadata": {
    "collapsed": true
   },
   "outputs": [],
   "source": [
    "def longest_child(s1, s2):\n",
    "    return longest_child(s1,s2,0,0)\n",
    "\n",
    "def longest_child(s1, s2, i, j):\n",
    "    count=0\n",
    "    if(i==len(s1) or j==len(s2)):\n",
    "        return count\n",
    "    if(s1[i]==s2[j]):\n",
    "        count+=1\n",
    "        longest_child(s1, s2, i+1, j+1)\n",
    "    else:\n",
    "        longest_child(s1, s2, i+1, j)\n",
    "        longest_child(s1, s2, i, j+1)\n",
    "    return count\n",
    "\n",
    "print(longest_child('ABCD', 'ABDC')) # 3\n",
    "print(longest_child('abcdedcf', 'abxyedcf')) # 6"
   ]
  }
 ],
 "metadata": {
  "kernelspec": {
   "display_name": "Python 3",
   "language": "python",
   "name": "python3"
  },
  "language_info": {
   "codemirror_mode": {
    "name": "ipython",
    "version": 3
   },
   "file_extension": ".py",
   "mimetype": "text/x-python",
   "name": "python",
   "nbconvert_exporter": "python",
   "pygments_lexer": "ipython3",
   "version": "3.6.3"
  }
 },
 "nbformat": 4,
 "nbformat_minor": 2
}
