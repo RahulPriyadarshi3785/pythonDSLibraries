{
 "cells": [
  {
   "cell_type": "code",
   "execution_count": null,
   "metadata": {
    "collapsed": true
   },
   "outputs": [],
   "source": [
    "def sweet(x,y):\n",
    "    n=len(x)\n",
    "    x.sort()\n",
    "    y.sort()\n",
    "    max=0\n",
    "    cnt=0\n",
    "    j=0\n",
    "    for i in range(n):\n",
    "        while(y[j]<x[i]):\n",
    "            j+=1\n",
    "        v=i-j+1\n",
    "        if(max<v):\n",
    "            max=v\n",
    "            cnt=x[i]\n",
    "    print(str(cnt) + ' ' + str(max))\n",
    "        \n",
    "x=[]\n",
    "y=[]\n",
    "for _ in range(int(input())):\n",
    "    l=list(map(int, input().split(' ')))\n",
    "    x.append(l[0])\n",
    "    y.append(l[1])\n",
    "sweet(x,y)\n",
    "\n",
    "\n",
    "\n"
   ]
  }
 ],
 "metadata": {
  "kernelspec": {
   "display_name": "Python 3",
   "language": "python",
   "name": "python3"
  },
  "language_info": {
   "codemirror_mode": {
    "name": "ipython",
    "version": 3
   },
   "file_extension": ".py",
   "mimetype": "text/x-python",
   "name": "python",
   "nbconvert_exporter": "python",
   "pygments_lexer": "ipython3",
   "version": "3.6.3"
  }
 },
 "nbformat": 4,
 "nbformat_minor": 2
}
