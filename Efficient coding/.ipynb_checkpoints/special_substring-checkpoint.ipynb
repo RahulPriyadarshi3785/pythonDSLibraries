{
 "cells": [
  {
   "cell_type": "code",
   "execution_count": 32,
   "metadata": {},
   "outputs": [
    {
     "name": "stdout",
     "output_type": "stream",
     "text": [
      "3\n",
      "21\n",
      "11\n",
      "21\n",
      "15\n",
      "10\n",
      "6\n",
      "3\n",
      "1\n"
     ]
    }
   ],
   "source": [
    "def substrings(string):\n",
    "    count=0\n",
    "    for i in range(1,len(string)+1):\n",
    "        count+=substringWithLength(string, i) # 1, .. n\n",
    "    return count\n",
    "    \n",
    "def substringWithLength(string, l):\n",
    "    count=0\n",
    "    if(len(string)<l):\n",
    "        return count\n",
    "    for i in range(0,len(string)-l+1): # [3]\n",
    "        s=string[i:i+l]\n",
    "        if(len(set(s))==1 or check_special_string(s)):\n",
    "            count+=1\n",
    "    return count\n",
    "        \n",
    "def check_special_string(s):\n",
    "    if(len(s)%2==1):\n",
    "        sl=s[:len(s)//2]\n",
    "        sr=s[(len(s)//2)+1:]\n",
    "        if(sl==sr and len(set(sl+sr))==1):\n",
    "            return True\n",
    "    return False\n",
    "# O(n)  O(n)\n",
    "        \n",
    "print(substrings(\"abc\")) # 3\n",
    "print(substrings(\"mnnmnonoopooO\")) # 13+3+4+1=21\n",
    "print(substrings(\"mnonopoO\")) # 11\n",
    "print(substrings(\"aaaaaa\")) # 21\n",
    "print(substrings(\"aaaaa\")) # 15\n",
    "print(substrings(\"aaaa\"))  # 10 \n",
    "print(substrings(\"aaa\"))  # 6\n",
    "print(substrings(\"aa\"))  # 3 \n",
    "print(substrings(\"a\"))  # 1\n",
    "\n",
    "#---------------------------------------------\n",
    "# mnnmnonoopooO -> [[m,1] [n,2] [m,1] [n,1] [o,1] [n,1] [o,3] [p,1] [o,2] [O,1]] # oopoo -> opo, oopoo\n",
    "# for i in range(1,len(l)):\n",
    "# if(l[i][1]==1): if(l[i-1][0]==l[i+1][0]): ans+= min(l[i+1][1], l[i-1][1])\n",
    "\n",
    "# length =13\n",
    "\n",
    "# -> a..n-times -> n(n+1)//2"
   ]
  },
  {
   "cell_type": "code",
   "execution_count": 3,
   "metadata": {},
   "outputs": [
    {
     "name": "stdout",
     "output_type": "stream",
     "text": [
      "3\n",
      "21\n",
      "11\n",
      "21\n",
      "15\n",
      "10\n",
      "6\n",
      "3\n",
      "1\n"
     ]
    }
   ],
   "source": [
    "def special_substring(string):\n",
    "    res=0\n",
    "    if(string==None or len(string)==0):\n",
    "        return res\n",
    "    curr=None\n",
    "    l=[]\n",
    "    for i in range(len(string)):\n",
    "        if(curr==None):\n",
    "            curr=string[i]\n",
    "            l.append([curr, 1])\n",
    "        else:\n",
    "            if(curr==string[i]):\n",
    "                l[len(l)-1][1]+=1\n",
    "            else:\n",
    "                curr=string[i]\n",
    "                l.append([curr, 1])\n",
    "    for i in range(len(l)):\n",
    "        res+=l[i][1]*(l[i][1]+1)//2\n",
    "        if(i>0 and i<len(l)-1 and l[i][1]==1 and l[i-1][0]==l[i+1][0]):\n",
    "            res+=min(l[i-1][1],l[i+1][1])\n",
    "    return res\n",
    "\n",
    "\n",
    "print(special_substring(\"abc\")) # 3\n",
    "print(special_substring(\"mnnmnonoopooO\")) # 13+3+4+1=21\n",
    "print(special_substring(\"mnonopoO\")) # 11\n",
    "print(special_substring(\"aaaaaa\")) # 21\n",
    "print(special_substring(\"aaaaa\")) # 15\n",
    "print(special_substring(\"aaaa\"))  # 10 \n",
    "print(special_substring(\"aaa\"))  # 6\n",
    "print(special_substring(\"aa\"))  # 3 \n",
    "print(special_substring(\"a\"))  # 1"
   ]
  },
  {
   "cell_type": "code",
   "execution_count": null,
   "metadata": {
    "collapsed": true
   },
   "outputs": [],
   "source": []
  }
 ],
 "metadata": {
  "kernelspec": {
   "display_name": "Python 3",
   "language": "python",
   "name": "python3"
  },
  "language_info": {
   "codemirror_mode": {
    "name": "ipython",
    "version": 3
   },
   "file_extension": ".py",
   "mimetype": "text/x-python",
   "name": "python",
   "nbconvert_exporter": "python",
   "pygments_lexer": "ipython3",
   "version": "3.6.3"
  }
 },
 "nbformat": 4,
 "nbformat_minor": 2
}
