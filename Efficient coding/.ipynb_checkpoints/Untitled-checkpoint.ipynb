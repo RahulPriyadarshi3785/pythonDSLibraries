{
 "cells": [
  {
   "cell_type": "code",
   "execution_count": 13,
   "metadata": {},
   "outputs": [
    {
     "name": "stdout",
     "output_type": "stream",
     "text": [
      "['S', 'h', 'a', 'k', 's', 'i']\n",
      "868288678\n"
     ]
    },
    {
     "data": {
      "text/plain": [
       "868288678"
      ]
     },
     "execution_count": 13,
     "metadata": {},
     "output_type": "execute_result"
    }
   ],
   "source": [
    "def q1(str):\n",
    "    uniq=set()\n",
    "    seq_uniq_str=list()\n",
    "    for s in str:\n",
    "        if(s not in uniq):\n",
    "            uniq.add(s)\n",
    "            seq_uniq_str.append(s)\n",
    "    print(seq_uniq_str)\n",
    "    return get_hash(seq_uniq_str)\n",
    "    \n",
    "    \n",
    "def get_hash(seq_uniq_str):\n",
    "    p=31\n",
    "    res=0\n",
    "    mod=1000000007\n",
    "    for i in range(0, len(seq_uniq_str)):\n",
    "        res+=((ord(seq_uniq_str[i])-ord('q')+1)*(p%mod))%mod\n",
    "        res%=mod\n",
    "        p*=31\n",
    "        p%=mod\n",
    "    return res\n",
    "\n",
    "q1('Shakshi')\n"
   ]
  },
  {
   "cell_type": "code",
   "execution_count": null,
   "metadata": {
    "collapsed": true
   },
   "outputs": [],
   "source": []
  }
 ],
 "metadata": {
  "kernelspec": {
   "display_name": "Python 3",
   "language": "python",
   "name": "python3"
  },
  "language_info": {
   "codemirror_mode": {
    "name": "ipython",
    "version": 3
   },
   "file_extension": ".py",
   "mimetype": "text/x-python",
   "name": "python",
   "nbconvert_exporter": "python",
   "pygments_lexer": "ipython3",
   "version": "3.6.3"
  }
 },
 "nbformat": 4,
 "nbformat_minor": 2
}
