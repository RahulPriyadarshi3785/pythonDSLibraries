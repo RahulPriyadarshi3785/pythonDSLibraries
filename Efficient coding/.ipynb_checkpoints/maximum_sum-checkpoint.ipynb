{
 "cells": [
  {
   "cell_type": "code",
   "execution_count": 12,
   "metadata": {
    "collapsed": true
   },
   "outputs": [],
   "source": [
    "def smallestPositiveNumber(list):\n",
    "    m=max(list) \n",
    "    for i in range(1,m+2):\n",
    "        if i not in list: # O(n)\n",
    "            return i\n",
    "    return 1\n",
    "\n",
    "# time: O(n^2)\n",
    "# space: O(1)"
   ]
  },
  {
   "cell_type": "code",
   "execution_count": 14,
   "metadata": {},
   "outputs": [
    {
     "name": "stdout",
     "output_type": "stream",
     "text": [
      "1\n",
      "7\n",
      "1\n",
      "1\n"
     ]
    }
   ],
   "source": [
    "print(smallestPositiveNumber([-5,2,0,-1,-10,15])) # 1\n",
    "print(smallestPositiveNumber([1,6,3,4,2,5])) # 7\n",
    "print(smallestPositiveNumber([-1,-6,-3,-4,0])) # 1\n",
    "print(smallestPositiveNumber([-6])) # 1"
   ]
  },
  {
   "cell_type": "code",
   "execution_count": 16,
   "metadata": {
    "collapsed": true
   },
   "outputs": [],
   "source": [
    "def smallestPositiveNumberOptimised(list):\n",
    "    s=set(list)\n",
    "    m=max(s) \n",
    "    for i in range(1,m+2):\n",
    "        if i not in s: # O(1)\n",
    "            return i\n",
    "    return 1\n",
    "\n",
    "# time:  O(n)\n",
    "# space: O(n)"
   ]
  },
  {
   "cell_type": "code",
   "execution_count": 17,
   "metadata": {},
   "outputs": [
    {
     "name": "stdout",
     "output_type": "stream",
     "text": [
      "1\n",
      "7\n",
      "1\n",
      "1\n"
     ]
    }
   ],
   "source": [
    "print(smallestPositiveNumberOptimised([-5,2,0,-1,-10,15])) # 1\n",
    "print(smallestPositiveNumberOptimised([1,6,3,4,2,5])) # 7\n",
    "print(smallestPositiveNumberOptimised([-1,-6,-3,-4,0])) # 1\n",
    "print(smallestPositiveNumberOptimised([-6])) # 1"
   ]
  },
  {
   "cell_type": "code",
   "execution_count": 5,
   "metadata": {},
   "outputs": [
    {
     "name": "stdout",
     "output_type": "stream",
     "text": [
      "-1\n"
     ]
    }
   ],
   "source": [
    "def max_sum(list):\n",
    "    if(len(list)==0):\n",
    "        return 0\n",
    "    for i in range(len(list)):\n",
    "        if(i==0):\n",
    "            previous=list[i]\n",
    "        elif(i==1):\n",
    "            recent=max(list[i], previous)\n",
    "        else:\n",
    "            current=list[i]+previous\n",
    "            previous=recent#3\n",
    "            recent=max(current, previous, list[i])#3\n",
    "    return recent\n",
    "\n",
    "    #[3,1,-2,-4,5,7,0,-100,-100,-100,100,200,4]\n",
    "    #[a=0,b=0,3,3,3,3,8,10,10,10,10,10,110,a=210,b=210]\n",
    "    #[3,4,-2,-4,5, 7, 0,-100,-100,-100,100,200,4]\n",
    "    #[3,4, 4, 4,9,11,11,  11,  11,  11,111,211,211]\n",
    "    #[3,4,-2,-4,5,7,0] ->[3,4,-2,-4,5,7,0,-100,-100,-100,100]  : 111+4 = 115(recent)\n",
    "#               ->[3,4,-2,-4,5,7,0,-100,-100,-100,100,200]: 211 (previous)\n",
    "#               -> max(recent or previous)= 211,115\n",
    "    \n",
    "# input_list = \"3,1,2,-4,0,100,2\"\n",
    "# input_list = \"3,1,-2,-4,5,7,0,-100,-100,-100,100,200,4\"\n",
    "input_list = \"-3,-1,-2,-4,-5,-7,-100,-100,-100,-100,-200,-4\"\n",
    "input_list = input_list.split(\",\")\n",
    "input_list = [int(i) for i in input_list]\n",
    "print(max_sum(input_list))"
   ]
  },
  {
   "cell_type": "code",
   "execution_count": null,
   "metadata": {
    "collapsed": true
   },
   "outputs": [],
   "source": []
  },
  {
   "cell_type": "code",
   "execution_count": null,
   "metadata": {
    "collapsed": true
   },
   "outputs": [],
   "source": []
  }
 ],
 "metadata": {
  "kernelspec": {
   "display_name": "Python 3",
   "language": "python",
   "name": "python3"
  },
  "language_info": {
   "codemirror_mode": {
    "name": "ipython",
    "version": 3
   },
   "file_extension": ".py",
   "mimetype": "text/x-python",
   "name": "python",
   "nbconvert_exporter": "python",
   "pygments_lexer": "ipython3",
   "version": "3.6.3"
  }
 },
 "nbformat": 4,
 "nbformat_minor": 2
}
