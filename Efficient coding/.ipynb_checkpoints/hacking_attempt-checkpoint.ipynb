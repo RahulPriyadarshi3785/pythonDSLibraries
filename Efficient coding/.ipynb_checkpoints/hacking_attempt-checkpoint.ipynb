{
 "cells": [
  {
   "cell_type": "code",
   "execution_count": 8,
   "metadata": {},
   "outputs": [
    {
     "name": "stdout",
     "output_type": "stream",
     "text": [
      "5\n"
     ]
    }
   ],
   "source": [
    "def hacking_attempt(n, k, string): # RYGY\n",
    "    l=list(string)\n",
    "    i=1\n",
    "    res=0\n",
    "    colorsToIndex={'R':0,'Y':1,'G':2}\n",
    "    indexToColor={0:'R',1:'Y',2:'G'}\n",
    "    while(i<=len(l)): # 1\n",
    "        if(l[i-1]!='G'): # R\n",
    "            turnsReq=2-colorsToIndex[l[i-1]]\n",
    "            res+=turnsReq\n",
    "            update_till=min(n, i+k-1) # 2\n",
    "            for m in range(i,update_till+1): # (1, 3)\n",
    "                x=colorsToIndex[l[m-1]] # 0\n",
    "                l[m-1]=indexToColor[(x+turnsReq)%3]\n",
    "        i+=1\n",
    "    return res\n",
    "            \n",
    "print(hacking_attempt(4, 2, 'RYGY')) #5"
   ]
  },
  {
   "cell_type": "code",
   "execution_count": null,
   "metadata": {
    "collapsed": true
   },
   "outputs": [],
   "source": []
  }
 ],
 "metadata": {
  "kernelspec": {
   "display_name": "Python 3",
   "language": "python",
   "name": "python3"
  },
  "language_info": {
   "codemirror_mode": {
    "name": "ipython",
    "version": 3
   },
   "file_extension": ".py",
   "mimetype": "text/x-python",
   "name": "python",
   "nbconvert_exporter": "python",
   "pygments_lexer": "ipython3",
   "version": "3.6.3"
  }
 },
 "nbformat": 4,
 "nbformat_minor": 2
}
