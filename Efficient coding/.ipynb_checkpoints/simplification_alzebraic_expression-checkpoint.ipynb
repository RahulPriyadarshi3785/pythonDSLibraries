{
 "cells": [
  {
   "cell_type": "code",
   "execution_count": 5,
   "metadata": {},
   "outputs": [
    {
     "name": "stdout",
     "output_type": "stream",
     "text": [
      "a-(b+c-(d+e-f\n",
      "a-(b+c+(x-(d+e+y-f\n"
     ]
    }
   ],
   "source": [
    "def simplification_alzebraic_expression(string):\n",
    "    countNegative=0\n",
    "    l=[]\n",
    "    res=''\n",
    "    i=0\n",
    "    while(i<len(string)):\n",
    "        c=string[i]\n",
    "        if(c=='-'):\n",
    "            if(string[i+1]=='('):\n",
    "                countNegative+=1\n",
    "                l.append('-')\n",
    "                res+='-'\n",
    "                i+=1\n",
    "            else:\n",
    "                if(countNegative%2==1):\n",
    "                    res+='+'\n",
    "                else:\n",
    "                    res+='-'\n",
    "        elif(c=='+'):\n",
    "            if(string[i+1]=='('):\n",
    "                l.append('+')\n",
    "                res+='+'\n",
    "                i+=1\n",
    "            else:\n",
    "                if(countNegative%2==1):\n",
    "                    res+='-'\n",
    "                else:\n",
    "                    res+='+'\n",
    "        elif(c==')'):\n",
    "            if(l.pop()=='-'):\n",
    "                countNegative-=1\n",
    "        else:\n",
    "            res+=c\n",
    "        i+=1\n",
    "    return res\n",
    "\n",
    "\n",
    "print(simplification_alzebraic_expression('a-(b-c-(d+e))-f'))\n",
    "print(simplification_alzebraic_expression('a-(b-c+(x-(d+e))-y)-f'))"
   ]
  },
  {
   "cell_type": "code",
   "execution_count": null,
   "metadata": {
    "collapsed": true
   },
   "outputs": [],
   "source": []
  }
 ],
 "metadata": {
  "kernelspec": {
   "display_name": "Python 3",
   "language": "python",
   "name": "python3"
  },
  "language_info": {
   "codemirror_mode": {
    "name": "ipython",
    "version": 3
   },
   "file_extension": ".py",
   "mimetype": "text/x-python",
   "name": "python",
   "nbconvert_exporter": "python",
   "pygments_lexer": "ipython3",
   "version": "3.6.3"
  }
 },
 "nbformat": 4,
 "nbformat_minor": 2
}
