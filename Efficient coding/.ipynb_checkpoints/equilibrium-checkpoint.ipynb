{
 "cells": [
  {
   "cell_type": "code",
   "execution_count": 3,
   "metadata": {},
   "outputs": [
    {
     "name": "stdout",
     "output_type": "stream",
     "text": [
      "None\n",
      "[3, 1, 5, 2, 2]\n"
     ]
    }
   ],
   "source": [
    "def equilibrium(arr):\n",
    "    if(sum(arr[1:])==0):\n",
    "        return 0\n",
    "    if(sum(arr[:-1])==0):\n",
    "        return len(arr)-1\n",
    "    s=sum(arr) #15\n",
    "    \n",
    "    \n",
    "print(equilibrium([4, 2, 3, 1, 3, 2])) # 2\n",
    "#                  4, 6, 9,10,13,15\n",
    "\n",
    "# ------------------\n",
    "# 2\n",
    "# sum=4+2 s=15 x=15-6-3=6\n"
   ]
  },
  {
   "cell_type": "code",
   "execution_count": null,
   "metadata": {
    "collapsed": true
   },
   "outputs": [],
   "source": []
  }
 ],
 "metadata": {
  "kernelspec": {
   "display_name": "Python 3",
   "language": "python",
   "name": "python3"
  },
  "language_info": {
   "codemirror_mode": {
    "name": "ipython",
    "version": 3
   },
   "file_extension": ".py",
   "mimetype": "text/x-python",
   "name": "python",
   "nbconvert_exporter": "python",
   "pygments_lexer": "ipython3",
   "version": "3.6.3"
  }
 },
 "nbformat": 4,
 "nbformat_minor": 2
}
