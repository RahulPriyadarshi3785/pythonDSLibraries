{
 "cells": [
  {
   "cell_type": "code",
   "execution_count": 7,
   "metadata": {},
   "outputs": [
    {
     "name": "stdout",
     "output_type": "stream",
     "text": [
      "aabb\n"
     ]
    }
   ],
   "source": [
    "#for input use:\n",
    "#inputString = input()\n",
    "\n",
    "def pick_place(k, s):\n",
    "    if(k==1):\n",
    "        smallest=s\n",
    "        for _ in range(1,len(s)): #0->bac,1->acb\n",
    "            s=s[1:]+s[0]\n",
    "            smallest=min(s,smallest)\n",
    "        return smallest\n",
    "    result=''\n",
    "    if(len(s)>k):\n",
    "        smallest_char=min(s[:k])\n",
    "        result+=smallest_char\n",
    "        s=s.replace(smallest_char,'',1)\n",
    "    result+=''.join(sorted(s))\n",
    "    return result\n",
    "        \n",
    "\n",
    "print(pick_place(2, 'abab'))"
   ]
  },
  {
   "cell_type": "code",
   "execution_count": null,
   "metadata": {
    "collapsed": true
   },
   "outputs": [],
   "source": []
  }
 ],
 "metadata": {
  "kernelspec": {
   "display_name": "Python 3",
   "language": "python",
   "name": "python3"
  },
  "language_info": {
   "codemirror_mode": {
    "name": "ipython",
    "version": 3
   },
   "file_extension": ".py",
   "mimetype": "text/x-python",
   "name": "python",
   "nbconvert_exporter": "python",
   "pygments_lexer": "ipython3",
   "version": "3.6.3"
  }
 },
 "nbformat": 4,
 "nbformat_minor": 2
}
