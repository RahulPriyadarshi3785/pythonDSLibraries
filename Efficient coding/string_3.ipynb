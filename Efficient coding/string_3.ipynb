{
 "cells": [
  {
   "cell_type": "code",
   "execution_count": null,
   "metadata": {
    "collapsed": true
   },
   "outputs": [],
   "source": [
    "#for input use:\n",
    "#inputString = input()\n",
    "\n",
    "def string_3(s1, s2, i, j):\n",
    "    if(j==len(s2)):\n",
    "        if(s1[i:].islower() or len(s1)==i):\n",
    "            return True\n",
    "        else:\n",
    "            return False\n",
    "    if(i==len(s1)):\n",
    "        return False\n",
    "    if(j in memoization_table and i in memoization_table[j]):\n",
    "        return False\n",
    "    if(s1[i].islower()):\n",
    "        if(s1[i].upper()==s2[j]):\n",
    "            res=string_3(s1, s2, i+1, j+1) or string_3(s1, s2, i+1, j)\n",
    "            if(not res):\n",
    "                 memoize(i, j)\n",
    "            return res\n",
    "        else:\n",
    "            res=string_3(s1, s2, i+1, j)\n",
    "            if(not res):\n",
    "                 memoize(i, j)\n",
    "            return res\n",
    "    else:\n",
    "        if(s1[i]==s2[j]):\n",
    "            res=string_3(s1, s2, i+1, j)\n",
    "            if(not res):\n",
    "                 memoize(i, j)\n",
    "            return res\n",
    "        else:\n",
    "            return False\n",
    "        \n",
    "def memoize(i, j):\n",
    "    if(j in memoization_table):\n",
    "        memoization_table[j].add(i)\n",
    "    else:\n",
    "        memoization_table[j]={i}\n",
    "\n",
    "memoization_table=dict()\n",
    "for _ in range(int(input())):\n",
    "    s1, s2 = input(),input()\n",
    "    print('YES' if string_3(s1, s2.upper(), 0, 0) else 'NO')"
   ]
  },
  {
   "cell_type": "code",
   "execution_count": null,
   "metadata": {
    "collapsed": true
   },
   "outputs": [],
   "source": [
    "def string_3(s1, s2, i, j):\n",
    "    if(j==len(s2)):\n",
    "        if(s1[i:].islower() or len(s1)==i):\n",
    "            return True\n",
    "        else:\n",
    "            return False\n",
    "    if(i==len(s1)):\n",
    "        return False\n",
    "    if(s1[i].islower()):\n",
    "        if(s1[i].upper()==s2[j]):\n",
    "            res=string_3(s1, s2, i+1, j+1) or string_3(s1, s2, i+1, j)\n",
    "        else:\n",
    "            res=string_3(s1, s2, i+1, j)\n",
    "    else:\n",
    "        if(s1[i]==s2[j]):\n",
    "            res=string_3(s1, s2, i+1, j+1)\n",
    "        else:\n",
    "            return False\n",
    "    return res\n",
    "\n",
    "for _ in range(int(input())):\n",
    "    s1, s2 = input(),input()\n",
    "    print('YES' if string_3(s1, s2.upper(), 0, 0) else 'NO')"
   ]
  }
 ],
 "metadata": {
  "kernelspec": {
   "display_name": "Python 3",
   "language": "python",
   "name": "python3"
  },
  "language_info": {
   "codemirror_mode": {
    "name": "ipython",
    "version": 3
   },
   "file_extension": ".py",
   "mimetype": "text/x-python",
   "name": "python",
   "nbconvert_exporter": "python",
   "pygments_lexer": "ipython3",
   "version": "3.6.3"
  }
 },
 "nbformat": 4,
 "nbformat_minor": 2
}
