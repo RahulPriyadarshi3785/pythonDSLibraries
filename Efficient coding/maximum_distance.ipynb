{
 "cells": [
  {
   "cell_type": "code",
   "execution_count": 2,
   "metadata": {},
   "outputs": [
    {
     "name": "stdout",
     "output_type": "stream",
     "text": [
      "0\n",
      "10\n",
      "0\n",
      "10\n"
     ]
    }
   ],
   "source": [
    "def max_distance(list):\n",
    "    d=dict() # {3:[0],2:[1,3,11],1:[2,4],4:[5,10],5:[6],8:[7],6:[8],7:[9]}\n",
    "    max=0\n",
    "    for ix in range(len(list)):\n",
    "        if(list[ix] in d.keys()):\n",
    "            l=d[list[ix]]\n",
    "            l.append(ix)\n",
    "            diff=l[-1]-l[0]\n",
    "            if(diff>max):\n",
    "                max=diff\n",
    "        else:\n",
    "            d[list[ix]]=[ix]\n",
    "    return max\n",
    "\n",
    "\n",
    "def max_distance_better(list):\n",
    "    d=dict() # {3:0,2:1,1:2,4:5,5:6,8:7,6:8,7:9}\n",
    "    max=0\n",
    "    for ix in range(len(list)):\n",
    "        if(list[ix] in d.keys()):# 2 in [2,1,3]\n",
    "            diff=ix-d[list[ix]]\n",
    "            if(diff>max):\n",
    "                max=diff\n",
    "        else:\n",
    "            d[list[ix]]=ix\n",
    "    return max\n",
    "\n",
    "\n",
    "# O(n) O(n)\n",
    "            \n",
    "print(max_distance([1,2,3,4,5,6,7,8])) # 0\n",
    "print(max_distance([3,2,1,2,1,4,5,8,6,7, 4, 2]))\n",
    "#                   0,1,2,3,4,5,6,7,8,9,10,11\n",
    "print(max_distance_better([1,2,3,4,5,6,7,8])) # 0\n",
    "print(max_distance_better([3,2,1,2,1,4,5,8,6,7, 4, 2]))\n",
    "#                   0,1,2,3,4,5,6,7,8,9,10,11"
   ]
  },
  {
   "cell_type": "code",
   "execution_count": null,
   "metadata": {
    "collapsed": true
   },
   "outputs": [],
   "source": []
  }
 ],
 "metadata": {
  "kernelspec": {
   "display_name": "Python 3",
   "language": "python",
   "name": "python3"
  },
  "language_info": {
   "codemirror_mode": {
    "name": "ipython",
    "version": 3
   },
   "file_extension": ".py",
   "mimetype": "text/x-python",
   "name": "python",
   "nbconvert_exporter": "python",
   "pygments_lexer": "ipython3",
   "version": "3.6.3"
  }
 },
 "nbformat": 4,
 "nbformat_minor": 2
}
