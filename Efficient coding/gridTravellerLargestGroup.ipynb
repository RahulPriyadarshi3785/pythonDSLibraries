{
 "cells": [
  {
   "cell_type": "code",
   "execution_count": 15,
   "metadata": {},
   "outputs": [
    {
     "name": "stdout",
     "output_type": "stream",
     "text": [
      "12\n"
     ]
    }
   ],
   "source": [
    "def grid_traveller_largest_group():\n",
    "    largest_forest=0\n",
    "    if(length==0):\n",
    "        return -1\n",
    "    for r in range(length):\n",
    "        for c in range(length):\n",
    "            largest_forest=max(count_forest_size(r, c),largest_forest)\n",
    "    return -1 if largest_forest==0 else largest_forest\n",
    "    \n",
    "def count_forest_size(r, c):\n",
    "    if(r>=length or c>=length or r<0 or c<0):\n",
    "        return 0\n",
    "    if(forest[r][c]!='T'):\n",
    "        return 0\n",
    "    forest_size=1\n",
    "    forest[r][c]='W'\n",
    "    forest_size+=count_forest_size(r+1, c)\n",
    "    forest_size+=count_forest_size(r, c+1)\n",
    "    forest_size+=count_forest_size(r-1, c)\n",
    "    forest_size+=count_forest_size(r, c-1)\n",
    "    return forest_size    \n",
    "\n",
    "forest=[['W', 'T', 'W', 'W', 'T', 'W', 'W'],\n",
    "        ['W', 'T', 'T', 'W', 'T', 'W', 'W'],\n",
    "        ['W', 'T', 'W', 'W', 'T', 'W', 'W'],\n",
    "        ['W', 'T', 'T', 'W', 'T', 'W', 'W'],\n",
    "        ['W', 'T', 'T', 'W', 'T', 'W', 'T'],\n",
    "        ['W', 'W', 'T', 'W', 'T', 'T', 'T'],\n",
    "        ['T', 'T', 'T', 'W', 'T', 'W', 'W']]\n",
    "length=len(forest)\n",
    "print(grid_traveller_largest_group())"
   ]
  },
  {
   "cell_type": "code",
   "execution_count": null,
   "metadata": {
    "collapsed": true
   },
   "outputs": [],
   "source": []
  }
 ],
 "metadata": {
  "kernelspec": {
   "display_name": "Python 3",
   "language": "python",
   "name": "python3"
  },
  "language_info": {
   "codemirror_mode": {
    "name": "ipython",
    "version": 3
   },
   "file_extension": ".py",
   "mimetype": "text/x-python",
   "name": "python",
   "nbconvert_exporter": "python",
   "pygments_lexer": "ipython3",
   "version": "3.6.3"
  }
 },
 "nbformat": 4,
 "nbformat_minor": 2
}
