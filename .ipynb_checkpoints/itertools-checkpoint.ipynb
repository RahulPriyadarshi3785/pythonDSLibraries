{
 "cells": [
  {
   "cell_type": "code",
   "execution_count": 10,
   "metadata": {},
   "outputs": [
    {
     "name": "stdout",
     "output_type": "stream",
     "text": [
      "10 10 10 10 10 "
     ]
    }
   ],
   "source": [
    "import itertools as it\n",
    "# Infinite iterators:\n",
    "for i in it.repeat(10,5): #repeat[start,n] repeats start n times\n",
    "    print(i, end=' ')"
   ]
  },
  {
   "cell_type": "code",
   "execution_count": 26,
   "metadata": {},
   "outputs": [
    {
     "name": "stdout",
     "output_type": "stream",
     "text": [
      "[1, 3, 6, 10, 15, 21, 28, 36, 45]\n",
      "1 3 6 10 15 21 28 36 45\n",
      "[1, 2, 6, 24, 120, 720, 5040, 40320, 362880]\n"
     ]
    }
   ],
   "source": [
    "l=range(1,10) # 1,2,3,4,5 -> 1,3,6,10,15\n",
    "print(list(it.accumulate(l, lambda x,y: x+y)))\n",
    "print(*it.accumulate(l)) # '*' arg gives iterator\n",
    "print(list(it.accumulate(l, lambda x,y: x*y)))"
   ]
  },
  {
   "cell_type": "code",
   "execution_count": 33,
   "metadata": {},
   "outputs": [
    {
     "name": "stdout",
     "output_type": "stream",
     "text": [
      "1 2 3 [4, 5, 6] [7, [8, 9]] 10\n",
      "1 2 3 [4, 5, 6] [7, [8, 9]] 10\n"
     ]
    }
   ],
   "source": [
    "print(*it.chain.from_iterable([[1,2,3],[[4,5,6],[7,[8,9]]],[10]])) # takes one argument only\n",
    "print(*it.chain([1,2,3],[[4,5,6],[7,[8,9]]],[10]))"
   ]
  },
  {
   "cell_type": "code",
   "execution_count": 36,
   "metadata": {},
   "outputs": [
    {
     "name": "stdout",
     "output_type": "stream",
     "text": [
      "a c d f g h k\n"
     ]
    }
   ],
   "source": [
    "print(*it.compress('abcdefghijkl',[1,0,1,1,0,1,1,1,0,0,1,0])) # works for binary but if input is greater than 1 still prints it"
   ]
  },
  {
   "cell_type": "code",
   "execution_count": 40,
   "metadata": {},
   "outputs": [
    {
     "name": "stdout",
     "output_type": "stream",
     "text": [
      "1 6 8 3 7 8 4\n"
     ]
    }
   ],
   "source": [
    "print(*it.dropwhile(lambda x: x%2==0, [2,44,6,8,1,6,8,3,7,8,4])) # drop till the given condition is true"
   ]
  },
  {
   "cell_type": "code",
   "execution_count": 43,
   "metadata": {},
   "outputs": [
    {
     "name": "stdout",
     "output_type": "stream",
     "text": [
      "1 3 7\n"
     ]
    }
   ],
   "source": [
    "print(*it.filterfalse(lambda x: x%2==0, [2,44,6,8,1,6,8,3,7,8,4])) # drop where condition is met\n",
    "# filter -> select and false -> false i.e. select which are false"
   ]
  },
  {
   "cell_type": "code",
   "execution_count": 51,
   "metadata": {},
   "outputs": [
    {
     "name": "stdout",
     "output_type": "stream",
     "text": [
      "A B C D A B\n",
      "['A', 'A', 'A', 'A'] ['B', 'B', 'B'] ['C', 'C'] ['D']\n",
      "('A', <itertools._grouper object at 0x00000296677BD278>) ('B', <itertools._grouper object at 0x00000296677BD3C8>) ('C', <itertools._grouper object at 0x00000296677BD1D0>) ('D', <itertools._grouper object at 0x00000296677BD748>) ('A', <itertools._grouper object at 0x00000296677BD518>) ('B', <itertools._grouper object at 0x00000296677BD7F0>)\n"
     ]
    }
   ],
   "source": [
    "print(*(k for k, g in it.groupby('AAAABBBCCDAABBB'))) # --> A B C D A B\n",
    "print(*(list(g) for k, g in it.groupby('AAAABBBCCD'))) # --> AAAA BBB CC D\n",
    "print(*it.groupby('AAAABBBCCDAABBB'))"
   ]
  },
  {
   "cell_type": "code",
   "execution_count": 53,
   "metadata": {},
   "outputs": [
    {
     "name": "stdout",
     "output_type": "stream",
     "text": [
      "32 9 1000\n"
     ]
    }
   ],
   "source": [
    "print(*it.starmap(pow, [[2,5], (3,2), (10,3)])) # --> 32 9 1000"
   ]
  },
  {
   "cell_type": "code",
   "execution_count": 54,
   "metadata": {},
   "outputs": [
    {
     "name": "stdout",
     "output_type": "stream",
     "text": [
      "2 44 6 8\n"
     ]
    }
   ],
   "source": [
    "print(*it.takewhile(lambda x: x%2==0, [2,44,6,8,1,6,8,3,7,8,4])) # take till the given condition is true"
   ]
  },
  {
   "cell_type": "code",
   "execution_count": 73,
   "metadata": {},
   "outputs": [
    {
     "name": "stdout",
     "output_type": "stream",
     "text": [
      "('A', 'x') ('B', 'y') ('C', '-') ('D', '-')\n",
      "(1, 5) (2, 6) (3, 'x') (4, 'x')\n"
     ]
    }
   ],
   "source": [
    "print(*it.zip_longest('ABCD', 'xy', fillvalue='-') ) # joins two together\n",
    "print(*it.zip_longest([1,2,3,4], [5,6], fillvalue='x') )"
   ]
  },
  {
   "cell_type": "code",
   "execution_count": 81,
   "metadata": {},
   "outputs": [
    {
     "name": "stdout",
     "output_type": "stream",
     "text": [
      "('A', 'A', 'A') ('A', 'A', 'B') ('A', 'A', 'C') ('A', 'A', 'D') ('A', 'B', 'A') ('A', 'B', 'B') ('A', 'B', 'C') ('A', 'B', 'D') ('A', 'C', 'A') ('A', 'C', 'B') ('A', 'C', 'C') ('A', 'C', 'D') ('A', 'D', 'A') ('A', 'D', 'B') ('A', 'D', 'C') ('A', 'D', 'D') ('B', 'A', 'A') ('B', 'A', 'B') ('B', 'A', 'C') ('B', 'A', 'D') ('B', 'B', 'A') ('B', 'B', 'B') ('B', 'B', 'C') ('B', 'B', 'D') ('B', 'C', 'A') ('B', 'C', 'B') ('B', 'C', 'C') ('B', 'C', 'D') ('B', 'D', 'A') ('B', 'D', 'B') ('B', 'D', 'C') ('B', 'D', 'D') ('C', 'A', 'A') ('C', 'A', 'B') ('C', 'A', 'C') ('C', 'A', 'D') ('C', 'B', 'A') ('C', 'B', 'B') ('C', 'B', 'C') ('C', 'B', 'D') ('C', 'C', 'A') ('C', 'C', 'B') ('C', 'C', 'C') ('C', 'C', 'D') ('C', 'D', 'A') ('C', 'D', 'B') ('C', 'D', 'C') ('C', 'D', 'D') ('D', 'A', 'A') ('D', 'A', 'B') ('D', 'A', 'C') ('D', 'A', 'D') ('D', 'B', 'A') ('D', 'B', 'B') ('D', 'B', 'C') ('D', 'B', 'D') ('D', 'C', 'A') ('D', 'C', 'B') ('D', 'C', 'C') ('D', 'C', 'D') ('D', 'D', 'A') ('D', 'D', 'B') ('D', 'D', 'C') ('D', 'D', 'D')\n",
      "('A', 'B', 'C') ('A', 'B', 'D') ('A', 'C', 'B') ('A', 'C', 'D') ('A', 'D', 'B') ('A', 'D', 'C') ('B', 'A', 'C') ('B', 'A', 'D') ('B', 'C', 'A') ('B', 'C', 'D') ('B', 'D', 'A') ('B', 'D', 'C') ('C', 'A', 'B') ('C', 'A', 'D') ('C', 'B', 'A') ('C', 'B', 'D') ('C', 'D', 'A') ('C', 'D', 'B') ('D', 'A', 'B') ('D', 'A', 'C') ('D', 'B', 'A') ('D', 'B', 'C') ('D', 'C', 'A') ('D', 'C', 'B')\n",
      "('A', 'B', 'C') ('A', 'B', 'D') ('A', 'C', 'D') ('B', 'C', 'D')\n",
      "('A', 'A', 'A') ('A', 'A', 'B') ('A', 'A', 'C') ('A', 'A', 'D') ('A', 'B', 'B') ('A', 'B', 'C') ('A', 'B', 'D') ('A', 'C', 'C') ('A', 'C', 'D') ('A', 'D', 'D') ('B', 'B', 'B') ('B', 'B', 'C') ('B', 'B', 'D') ('B', 'C', 'C') ('B', 'C', 'D') ('B', 'D', 'D') ('C', 'C', 'C') ('C', 'C', 'D') ('C', 'D', 'D') ('D', 'D', 'D')\n",
      "64\n",
      "24\n",
      "4\n",
      "20\n"
     ]
    }
   ],
   "source": [
    "print(*it.product('ABCD', repeat=3)) # all elements in pair of 2 : product(x,y) -> y^len(x)\n",
    "print(*it.permutations('ABCD', 3)) # all permutations : permutations(x,y) -> len(x)!/(len(x)-y)!\n",
    "print(*it.combinations('ABCD', 3)) # all combinations : combinations(x,y) -> len(x)!/(len(x)-y)!*y!\n",
    "print(*it.combinations_with_replacement('ABCD', 3)) # all combinations + repeat every element \n",
    "# : combinations_with_replacement(x,y) -> len(x)!/(len(x)-y)!*y! + len(x)"
   ]
  },
  {
   "cell_type": "code",
   "execution_count": null,
   "metadata": {
    "collapsed": true
   },
   "outputs": [],
   "source": []
  }
 ],
 "metadata": {
  "kernelspec": {
   "display_name": "Python 3",
   "language": "python",
   "name": "python3"
  },
  "language_info": {
   "codemirror_mode": {
    "name": "ipython",
    "version": 3
   },
   "file_extension": ".py",
   "mimetype": "text/x-python",
   "name": "python",
   "nbconvert_exporter": "python",
   "pygments_lexer": "ipython3",
   "version": "3.6.3"
  }
 },
 "nbformat": 4,
 "nbformat_minor": 2
}
