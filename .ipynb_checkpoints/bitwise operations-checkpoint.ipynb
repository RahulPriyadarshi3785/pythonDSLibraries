{
 "cells": [
  {
   "cell_type": "code",
   "execution_count": 1,
   "metadata": {
    "collapsed": true
   },
   "outputs": [],
   "source": [
    "x=True\n",
    "y=False"
   ]
  },
  {
   "cell_type": "code",
   "execution_count": 2,
   "metadata": {},
   "outputs": [
    {
     "name": "stdout",
     "output_type": "stream",
     "text": [
      "True\n",
      "False\n",
      "True\n"
     ]
    }
   ],
   "source": [
    "print(x or y) # short-circuit operator\n",
    "print(x and y) # short-circuit operator\n",
    "print(not y)"
   ]
  },
  {
   "cell_type": "code",
   "execution_count": 4,
   "metadata": {},
   "outputs": [
    {
     "name": "stdout",
     "output_type": "stream",
     "text": [
      "25\n",
      "9\n",
      "(2, 1)\n",
      "2\n",
      "2.6666666666666665\n"
     ]
    }
   ],
   "source": [
    "print(5**2) # power\n",
    "print(abs(-9)) # positive\n",
    "print(divmod(5,2)) # (int quotient, remainder)\n",
    "print(8//3) # int division\n",
    "print(8/3)"
   ]
  },
  {
   "cell_type": "code",
   "execution_count": 13,
   "metadata": {},
   "outputs": [
    {
     "name": "stdout",
     "output_type": "stream",
     "text": [
      "0\n",
      "7\n",
      "2\n",
      "2.6\n",
      "2\n",
      "2\n",
      "3\n"
     ]
    }
   ],
   "source": [
    "import math\n",
    "print(min(1,3,7,0)) # min(*args)\n",
    "print(max(1,3,7,0)) # max(*args)\n",
    "print(math.trunc(2.6)) # removes after decimal part\n",
    "print(round(2.63,1)) # round(number[, after_decimal])\n",
    "print(round(2.5)) # round(number[, after_decimal])\n",
    "print(math.floor(2.63))\n",
    "print(math.ceil(2.63))"
   ]
  },
  {
   "cell_type": "code",
   "execution_count": 14,
   "metadata": {},
   "outputs": [
    {
     "name": "stdout",
     "output_type": "stream",
     "text": [
      "15\n",
      "0\n",
      "6\n",
      "-6\n",
      "8\n",
      "128\n"
     ]
    }
   ],
   "source": [
    "print(5 | 10) # 101 | 1010 -> 1111\n",
    "print(5 & 10) # 101 & 1010 -> 0\n",
    "print(15 ^ 9) # 1111 ^ 1001 -> 110\n",
    "print(~5) # ~00000000000000000000000000000101 -> 11111111111111111111111111111010 (-6)\n",
    "print(1<<3) # 1000\n",
    "print(1024>>3) # 10000000 "
   ]
  },
  {
   "cell_type": "code",
   "execution_count": 16,
   "metadata": {},
   "outputs": [
    {
     "name": "stdout",
     "output_type": "stream",
     "text": [
      "-6\n",
      "-6\n",
      "-7\n"
     ]
    }
   ],
   "source": [
    "print(-6)\n",
    "print(~6+1)\n",
    "print(~6) # 2's complement\n",
    "# 2's complement + 1 -> negative(-1 * that_number)"
   ]
  },
  {
   "cell_type": "code",
   "execution_count": null,
   "metadata": {
    "collapsed": true
   },
   "outputs": [],
   "source": []
  }
 ],
 "metadata": {
  "kernelspec": {
   "display_name": "Python 3",
   "language": "python",
   "name": "python3"
  },
  "language_info": {
   "codemirror_mode": {
    "name": "ipython",
    "version": 3
   },
   "file_extension": ".py",
   "mimetype": "text/x-python",
   "name": "python",
   "nbconvert_exporter": "python",
   "pygments_lexer": "ipython3",
   "version": "3.6.3"
  }
 },
 "nbformat": 4,
 "nbformat_minor": 2
}
